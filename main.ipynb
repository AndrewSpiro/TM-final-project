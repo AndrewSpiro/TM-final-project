{
 "cells": [
  {
   "cell_type": "markdown",
   "metadata": {},
   "source": [
    "## Data exploration"
   ]
  },
  {
   "cell_type": "code",
   "execution_count": 3,
   "metadata": {},
   "outputs": [],
   "source": [
    "import pandas as pd\n",
    "\n",
    "news_df = pd.read_csv(\"data/Sora_LREC2020_biasedsentences.csv\")"
   ]
  },
  {
   "cell_type": "markdown",
   "metadata": {},
   "source": [
    "Seems that each instance consists of an article with sentences and a bias score between 1 and 4 is assigned to the article as a whole, the title, and each sentence."
   ]
  },
  {
   "cell_type": "code",
   "execution_count": 5,
   "metadata": {},
   "outputs": [
    {
     "name": "stdout",
     "output_type": "stream",
     "text": [
      "sentence: [0]: LOUISVILLE - Dan Johnson posted a final message on Facebook to his friends and family on Wednesday afternoon. score: 3\n",
      "dataset score range: (1, 4)\n"
     ]
    }
   ],
   "source": [
    "news_test_sentence = news_df.iloc[0] # visual inspection\n",
    "print(f\"sentence: {news_test_sentence['s0']}\", f\"score: {news_test_sentence['0']}\")\n",
    "print(f\"dataset score range: {news_df['article_bias'].min(),news_df['article_bias'].max()}\")\n",
    "# pd.DataFrame(news_test_sentence)"
   ]
  },
  {
   "cell_type": "markdown",
   "metadata": {},
   "source": [
    "## Baseline\n",
    "Takes ~10 mins to run- results is MSE = 0.04640446037612758"
   ]
  },
  {
   "cell_type": "code",
   "execution_count": 6,
   "metadata": {},
   "outputs": [
    {
     "name": "stdout",
     "output_type": "stream",
     "text": [
      "WARNING:tensorflow:From c:\\Users\\cdemm\\AppData\\Local\\Programs\\Python\\Python310\\lib\\site-packages\\tf_keras\\src\\losses.py:2976: The name tf.losses.sparse_softmax_cross_entropy is deprecated. Please use tf.compat.v1.losses.sparse_softmax_cross_entropy instead.\n",
      "\n",
      "WARNING:tensorflow:From c:\\Users\\cdemm\\AppData\\Local\\Programs\\Python\\Python310\\lib\\site-packages\\tf_keras\\src\\backend.py:873: The name tf.get_default_graph is deprecated. Please use tf.compat.v1.get_default_graph instead.\n",
      "\n"
     ]
    },
    {
     "name": "stderr",
     "output_type": "stream",
     "text": [
      "All model checkpoint layers were used when initializing TFDistilBertForSequenceClassification.\n",
      "\n",
      "All the layers of TFDistilBertForSequenceClassification were initialized from the model checkpoint at d4data/bias-detection-model.\n",
      "If your task is similar to the task the model of the checkpoint was trained on, you can already use TFDistilBertForSequenceClassification for predictions without further training.\n"
     ]
    }
   ],
   "source": [
    "# source: https://huggingface.co/d4data/bias-detection-model\n",
    "from transformers import AutoTokenizer, TFAutoModelForSequenceClassification\n",
    "from transformers import pipeline\n",
    "tokenizer = AutoTokenizer.from_pretrained(\"d4data/bias-detection-model\")\n",
    "model = TFAutoModelForSequenceClassification.from_pretrained(\"d4data/bias-detection-model\")\n",
    "\n",
    "classifier = pipeline('text-classification', model=model, tokenizer=tokenizer) # cuda = 0,1 based on gpu availability"
   ]
  },
  {
   "cell_type": "code",
   "execution_count": 7,
   "metadata": {},
   "outputs": [
    {
     "name": "stdout",
     "output_type": "stream",
     "text": [
      "pred: 0.7625144720077515, y: 0.8333333333333334\n"
     ]
    }
   ],
   "source": [
    "def rescale(score):\n",
    "    '''baseline classifier gives scores in the range of 0.5 to 1 (i think)\n",
    "        making a linear function to map the score to the correct range\n",
    "    '''\n",
    "    current_min_score = 1\n",
    "    current_max_score = 4\n",
    "    target_min_score = 0.5\n",
    "    target_max_score = 1\n",
    "    m = (target_max_score-target_min_score)/(current_max_score-current_min_score)\n",
    "    b = target_min_score-(m*current_min_score)\n",
    "    \n",
    "    return (m*score)+b\n",
    "\n",
    "# comparing bias score obtained from classifier to true bias score for a test sentence from the news dataset\n",
    "test_sent_pred = classifier(news_test_sentence[\"s0\"])\n",
    "test_sent_y = rescale(news_test_sentence[\"0\"])\n",
    "print(f\"pred: {test_sent_pred[-1]['score']}, y: {test_sent_y}\")"
   ]
  },
  {
   "cell_type": "code",
   "execution_count": null,
   "metadata": {},
   "outputs": [
    {
     "name": "stdout",
     "output_type": "stream",
     "text": [
      "0\n",
      "1\n",
      "2\n",
      "3\n",
      "4\n",
      "5\n",
      "6\n",
      "7\n",
      "8\n",
      "9\n",
      "10\n",
      "11\n",
      "12\n",
      "13\n",
      "14\n",
      "15\n",
      "16\n",
      "17\n",
      "18\n",
      "19\n",
      "20\n",
      "21\n",
      "22\n",
      "23\n",
      "24\n",
      "25\n",
      "26\n",
      "27\n",
      "28\n",
      "29\n",
      "30\n"
     ]
    }
   ],
   "source": [
    "test = False\n",
    "def compare_predictions(df, regressor):\n",
    "    '''\n",
    "    compute mean squared error for all individual sentences and titles in the news dataset\n",
    "    '''\n",
    "    squared_error = 0\n",
    "    sentence_count = 0\n",
    "\n",
    "    # iterate through every instance (article)\n",
    "    for article_index, row in df.iterrows():\n",
    "        # if test and article_index <30:\n",
    "        #     continue\n",
    "        # elif test and article_index > 40:\n",
    "        #     break\n",
    "        print(article_index)\n",
    "\n",
    "        # iterate through every sentence\n",
    "        for i in range(0, 20):  # Sentences are named f\"s0\" to f\"s19\"\n",
    "            sentence = row[f\"s{i}\"]\n",
    "            label = row[f\"{i}\"]  # The label column for the ith sentence\n",
    "            # compute bias score with regressor\n",
    "            try:\n",
    "                prediction_list = regressor(sentence)\n",
    "                pred = prediction_list[-1]['score']\n",
    "            except ValueError: # if the sentence is a NaN, change the prediction to minimum bias value\n",
    "                pred = 0.5\n",
    "            y = rescale(label)\n",
    "            # compute square error as the square of the difference between the predicted and label\n",
    "            squared_error += (y-pred)**2\n",
    "            sentence_count += 1\n",
    "\n",
    "        # Handle the title\n",
    "        title = row[\"doctitle\"]\n",
    "        label = row[\"t\"]\n",
    "        prediction_list = regressor(title)\n",
    "        pred = prediction_list[-1]['score']\n",
    "        y = rescale(label)\n",
    "        squared_error += (y-pred)**2\n",
    "        sentence_count += 1\n",
    "\n",
    "    # divide the total square erorr by the total number of sentences (keep track with counter) to obtain MSE\n",
    "    return squared_error/sentence_count\n",
    "\n",
    "compare_predictions(news_df, classifier)"
   ]
  },
  {
   "cell_type": "markdown",
   "metadata": {},
   "source": [
    "## Fine tune classifier and compare to baseline"
   ]
  },
  {
   "cell_type": "code",
   "execution_count": 79,
   "metadata": {},
   "outputs": [],
   "source": [
    "#preprocess news data\n",
    "def extract_sentences_and_labels(df):\n",
    "    sentences_list = []\n",
    "    labels_list = []\n",
    "    for _, row in df.iterrows():\n",
    "        for i in range(0, 20):  # Sentences are named f\"s0\" to f\"s19\"\n",
    "            sentences_list.append(row[f\"s{i}\"])\n",
    "            labels_list.append(row[f\"{i}\"])\n",
    "            \n",
    "    return sentences_list, labels_list"
   ]
  },
  {
   "cell_type": "code",
   "execution_count": null,
   "metadata": {},
   "outputs": [],
   "source": [
    "sentences, labels = extract_sentences_and_labels(news_df)\n",
    "baseline_tokenizer = tokenizer\n",
    "inputs = baseline_tokenizer(sentences)"
   ]
  },
  {
   "cell_type": "code",
   "execution_count": null,
   "metadata": {},
   "outputs": [],
   "source": [
    "...\n",
    "from transformers import TrainingArguments\n",
    "from transformers import Trainer\n",
    "\n",
    "args = TrainingArguments(\n",
    "    \"baseline-bias-regressor\",\n",
    "    evaluation_strategy = \"epoch\",\n",
    "    save_strategy = \"epoch\",\n",
    "    learning_rate = 2e-5,\n",
    "    num_train_epochs = 3,\n",
    "    weight_decay = 0.01,\n",
    ")\n",
    "\n",
    "trainer = Trainer(\n",
    "    model = model,\n",
    "    args = args,\n",
    "    \n",
    ")"
   ]
  },
  {
   "cell_type": "markdown",
   "metadata": {},
   "source": [
    "## Make predictions for X notes data"
   ]
  },
  {
   "cell_type": "code",
   "execution_count": null,
   "metadata": {},
   "outputs": [],
   "source": [
    "..."
   ]
  },
  {
   "cell_type": "markdown",
   "metadata": {},
   "source": [
    "## Compare classifier predictions to human predictions"
   ]
  },
  {
   "cell_type": "code",
   "execution_count": null,
   "metadata": {},
   "outputs": [],
   "source": [
    "# my idea for how to evaluate:\n",
    "# 1) we set some guidelines for how we will evaluate notes \n",
    "# 2) we individually make labels for one days worth of notes (that's about 200 notes; this would be the train set)\n",
    "# 3) we calculate out interrater agreement (if it's very bad, we revise our guidelines and re-label)\n",
    "# 4) we average our labels and use that to further fine-tune the classifier\n",
    "# 5) we repeat step 2 on a new set of notes (this would be the test set)\n",
    "# 6) we make predictions using the classifier obtained from step 4\n",
    "# 7) either we calculate the MSE using our labels as ground truth, or we calculate three interrater agreements (chico-andrew, chico-classifier, andrew-classifier)\n",
    "# and see if the human-human agreement is better than the human-classifier agreement.\n",
    "..."
   ]
  }
 ],
 "metadata": {
  "kernelspec": {
   "display_name": "Python 3",
   "language": "python",
   "name": "python3"
  },
  "language_info": {
   "codemirror_mode": {
    "name": "ipython",
    "version": 3
   },
   "file_extension": ".py",
   "mimetype": "text/x-python",
   "name": "python",
   "nbconvert_exporter": "python",
   "pygments_lexer": "ipython3",
   "version": "3.10.7"
  }
 },
 "nbformat": 4,
 "nbformat_minor": 2
}

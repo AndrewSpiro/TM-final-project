{
 "cells": [
  {
   "cell_type": "markdown",
   "metadata": {},
   "source": [
    "Data exploration"
   ]
  },
  {
   "cell_type": "code",
   "execution_count": 2,
   "metadata": {},
   "outputs": [],
   "source": [
    "import pandas as pd\n",
    "\n",
    "news_df = pd.read_csv(\"Sora_LREC2020_biasedsentences.csv\")"
   ]
  },
  {
   "cell_type": "markdown",
   "metadata": {},
   "source": [
    "Seems that each instance consists of an article with sentences and a bias score between 1 and 4 is assigned to the article as a whole, the title, and each sentence."
   ]
  },
  {
   "cell_type": "code",
   "execution_count": 28,
   "metadata": {},
   "outputs": [
    {
     "name": "stdout",
     "output_type": "stream",
     "text": [
      "sentence: [0]: LOUISVILLE - Dan Johnson posted a final message on Facebook to his friends and family on Wednesday afternoon. score: 3\n",
      "dataset score range: (np.int64(1), np.int64(4))\n"
     ]
    }
   ],
   "source": [
    "news_test_sentence = news_df.iloc[0] # visual inspection\n",
    "print(f\"sentence: {news_test_sentence['s0']}\", f\"score: {news_test_sentence[\"0\"]}\")\n",
    "\n",
    "print(f\"dataset score range: {news_df[\"article_bias\"].min(),news_df[\"article_bias\"].max()}\")"
   ]
  },
  {
   "cell_type": "markdown",
   "metadata": {},
   "source": [
    "Baseline"
   ]
  },
  {
   "cell_type": "code",
   "execution_count": null,
   "metadata": {},
   "outputs": [
    {
     "name": "stdout",
     "output_type": "stream",
     "text": [
      "WARNING:tensorflow:From c:\\Users\\spiro\\LifeHub\\~Education\\~Leiden\\MSc\\Text mining\\Assignments\\venv\\Lib\\site-packages\\tf_keras\\src\\losses.py:2976: The name tf.losses.sparse_softmax_cross_entropy is deprecated. Please use tf.compat.v1.losses.sparse_softmax_cross_entropy instead.\n",
      "\n",
      "WARNING:tensorflow:From c:\\Users\\spiro\\LifeHub\\~Education\\~Leiden\\MSc\\Text mining\\Assignments\\venv\\Lib\\site-packages\\tf_keras\\src\\backend.py:873: The name tf.get_default_graph is deprecated. Please use tf.compat.v1.get_default_graph instead.\n",
      "\n"
     ]
    },
    {
     "name": "stderr",
     "output_type": "stream",
     "text": [
      "All model checkpoint layers were used when initializing TFDistilBertForSequenceClassification.\n",
      "\n",
      "All the layers of TFDistilBertForSequenceClassification were initialized from the model checkpoint at d4data/bias-detection-model.\n",
      "If your task is similar to the task the model of the checkpoint was trained on, you can already use TFDistilBertForSequenceClassification for predictions without further training.\n"
     ]
    }
   ],
   "source": [
    "# source: https://huggingface.co/d4data/bias-detection-model\n",
    "from transformers import AutoTokenizer, TFAutoModelForSequenceClassification\n",
    "from transformers import pipeline\n",
    "tokenizer = AutoTokenizer.from_pretrained(\"d4data/bias-detection-model\")\n",
    "model = TFAutoModelForSequenceClassification.from_pretrained(\"d4data/bias-detection-model\")\n",
    "\n",
    "classifier = pipeline('text-classification', model=model, tokenizer=tokenizer) # cuda = 0,1 based on gpu availability"
   ]
  },
  {
   "cell_type": "code",
   "execution_count": null,
   "metadata": {},
   "outputs": [
    {
     "name": "stdout",
     "output_type": "stream",
     "text": [
      "0.762514591217041\n"
     ]
    }
   ],
   "source": [
    "def rescale(score):\n",
    "    '''baseline classifier gives scores in the range of 0.5 to 1 (i think)\n",
    "        making a linear function to map the score to the correct range\n",
    "    '''\n",
    "    current_min_score = 1\n",
    "    current_max_score = 4\n",
    "    target_min_score = 0.5\n",
    "    target_max_score = 1\n",
    "    m = (target_max_score-target_min_score)/(current_max_score-current_min_score)\n",
    "    b = target_min_score-(m*current_min_score)\n",
    "    \n",
    "    return (m*score)+b\n",
    "\n",
    "# test sentence from news dataset\n",
    "test_pred = classifier(news_test_sentence[\"s0\"])\n",
    "\n",
    "print(test_pred[-1]['score'])"
   ]
  }
 ],
 "metadata": {
  "kernelspec": {
   "display_name": "venv",
   "language": "python",
   "name": "python3"
  },
  "language_info": {
   "codemirror_mode": {
    "name": "ipython",
    "version": 3
   },
   "file_extension": ".py",
   "mimetype": "text/x-python",
   "name": "python",
   "nbconvert_exporter": "python",
   "pygments_lexer": "ipython3",
   "version": "3.12.2"
  }
 },
 "nbformat": 4,
 "nbformat_minor": 2
}

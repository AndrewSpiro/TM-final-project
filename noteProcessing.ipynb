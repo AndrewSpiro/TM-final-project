{
 "cells": [
  {
   "cell_type": "code",
   "execution_count": 22,
   "metadata": {},
   "outputs": [],
   "source": [
    "import pandas as pd\n",
    "from langdetect import detect"
   ]
  },
  {
   "cell_type": "code",
   "execution_count": 2,
   "metadata": {},
   "outputs": [
    {
     "name": "stderr",
     "output_type": "stream",
     "text": [
      "C:\\Users\\cdemm\\AppData\\Local\\Temp\\ipykernel_712\\57774694.py:1: DtypeWarning: Columns (5,6,7) have mixed types. Specify dtype option on import or set low_memory=False.\n",
      "  notesData = pd.read_csv(\"data/notes.tsv\", sep=\"\\t\")\n",
      "C:\\Users\\cdemm\\AppData\\Local\\Temp\\ipykernel_712\\57774694.py:2: DtypeWarning: Columns (10,19) have mixed types. Specify dtype option on import or set low_memory=False.\n",
      "  noteStatusData = pd.read_csv(\"data/noteStatusHistory.tsv\", sep=\"\\t\")\n"
     ]
    },
    {
     "name": "stdout",
     "output_type": "stream",
     "text": [
      "(1540700, 23)\n",
      "(1678280, 23)\n"
     ]
    }
   ],
   "source": [
    "notesData = pd.read_csv(\"data/notes.tsv\", sep=\"\\t\")\n",
    "noteStatusData = pd.read_csv(\"data/noteStatusHistory.tsv\", sep=\"\\t\")\n",
    "print(notesData.shape)\n",
    "print(noteStatusData.shape)"
   ]
  },
  {
   "cell_type": "markdown",
   "metadata": {},
   "source": [
    "## Creating data subset for annotation"
   ]
  },
  {
   "cell_type": "code",
   "execution_count": 35,
   "metadata": {},
   "outputs": [],
   "source": [
    "annoNotes = pd.DataFrame(columns=[\"noteId\", \"status\", \"summary\", \"label1\", \"label2\"])\n",
    "hCount = 0\n",
    "uCount = 0\n",
    "index = 0\n",
    "\n",
    "for i in range(10000):\n",
    "\n",
    "    noteId = notesData.iloc[-i][\"noteId\"]\n",
    "    classification = notesData.iloc[-i][\"classification\"]\n",
    "    believable = notesData.iloc[-i][\"believable\"]\n",
    "    harmful = notesData.iloc[-i][\"harmful\"]\n",
    "    valDiff = notesData.iloc[-i][\"validationDifficulty\"]\n",
    "    summary = notesData.iloc[-i][\"summary\"]\n",
    "    \n",
    "    noteStatus = noteStatusData[noteStatusData[\"noteId\"] == noteId]\n",
    "    createdAt = noteStatus[\"createdAtMillis\"]\n",
    "    currentStatusTime = noteStatus[\"timestampMillisOfCurrentStatus\"]\n",
    "    currentStatus = noteStatus[\"currentStatus\"]\n",
    "\n",
    "    if currentStatus.empty:\n",
    "        currentStatus = \"NEEDS_MORE_RATINGS\"\n",
    "    else:\n",
    "        currentStatus = currentStatus.iloc[0]\n",
    "\n",
    "\n",
    "    if (classification == \"MISINFORMED_OR_POTENTIALLY_MISLEADING\" and # We are looking for notes that are supposed to be shown under a tweet\n",
    "        believable not in [\"BELIEVABLEBYFEW\", \"BELIEVABLE_BY_MANY\"] and # We don't want notes that use depricated metrics\n",
    "        harmful not in [\"LITTLE*HARM\", \"CONSIDERABLE*HARM\"] and \n",
    "        valDiff not in [\"EASY\", \"CHALLENGING\"] and\n",
    "        \"http\" in summary and # We want notes that have a source in them\n",
    "        currentStatus != \"NEEDS_MORE_RATINGS\" and # We want a note that is either rated \"helpful\" or \"not helpful\"\n",
    "        (currentStatusTime.iloc[0] < 1735520580000) and # We want the rating to be at least a day old\n",
    "        noteId not in [1860687797557895475, 1838219148725514576, 1806261291679731729, 1855052380733050940, 1859390416967106879, 1825898499860476366, 1852145720356429917, 1805946836592566715, 1805943677719548117, 1805937846525534280, 1805937345633358297] and\n",
    "        detect(summary) == \"en\"): # We only want notes in english\n",
    "\n",
    "        if currentStatus == \"CURRENTLY_RATED_HELPFUL\" and hCount < 100:\n",
    "            annoNotes.loc[index, \"noteId\"] = noteId\n",
    "            annoNotes.loc[index, \"status\"] = currentStatus\n",
    "            annoNotes.loc[index, \"summary\"] = summary\n",
    "            index += 1\n",
    "            hCount += 1\n",
    "\n",
    "        elif currentStatus == \"CURRENTLY_RATED_NOT_HELPFUL\" and uCount < 100:\n",
    "            annoNotes.loc[index, \"noteId\"] = noteId\n",
    "            annoNotes.loc[index, \"status\"] = currentStatus\n",
    "            annoNotes.loc[index, \"summary\"] = summary\n",
    "            index += 1\n",
    "            uCount += 1\n",
    "\n",
    "    if index >= 201 and hCount >= 100 and uCount >= 100:\n",
    "        break\n",
    "\n",
    "annonotes = annoNotes.astype(str)\n",
    "annoNotes.to_csv(\"data/annotation.csv\")"
   ]
  }
 ],
 "metadata": {
  "kernelspec": {
   "display_name": "Python 3",
   "language": "python",
   "name": "python3"
  },
  "language_info": {
   "codemirror_mode": {
    "name": "ipython",
    "version": 3
   },
   "file_extension": ".py",
   "mimetype": "text/x-python",
   "name": "python",
   "nbconvert_exporter": "python",
   "pygments_lexer": "ipython3",
   "version": "3.10.7"
  }
 },
 "nbformat": 4,
 "nbformat_minor": 2
}

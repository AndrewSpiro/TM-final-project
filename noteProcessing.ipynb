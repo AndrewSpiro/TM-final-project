{
 "cells": [
  {
   "cell_type": "code",
   "execution_count": 37,
   "metadata": {},
   "outputs": [],
   "source": [
    "import pandas as pd\n",
    "import re"
   ]
  },
  {
   "cell_type": "code",
   "execution_count": 2,
   "metadata": {},
   "outputs": [
    {
     "name": "stderr",
     "output_type": "stream",
     "text": [
      "C:\\Users\\Chico\\AppData\\Local\\Temp\\ipykernel_11576\\3498016289.py:1: DtypeWarning: Columns (5,6,7) have mixed types. Specify dtype option on import or set low_memory=False.\n",
      "  data = pd.read_csv(\"data/notes.tsv\", sep=\"\\t\")\n"
     ]
    },
    {
     "name": "stdout",
     "output_type": "stream",
     "text": [
      "(1537510, 23)\n"
     ]
    }
   ],
   "source": [
    "data = pd.read_csv(\"data/notes.tsv\", sep=\"\\t\")\n",
    "print(data.shape)"
   ]
  },
  {
   "cell_type": "markdown",
   "metadata": {},
   "source": [
    "## Creating data subset for annotation"
   ]
  },
  {
   "cell_type": "code",
   "execution_count": 41,
   "metadata": {},
   "outputs": [],
   "source": [
    "annoNotes = pd.DataFrame(columns=[\"noteId\", \"classification\", \"summary\"])\n",
    "misCount = 0\n",
    "nMisCount = 0\n",
    "index = 0\n",
    "\n",
    "for i in range(1000):\n",
    "\n",
    "    noteId = data.iloc[i][\"noteId\"]\n",
    "    classification = data.iloc[i][\"classification\"]\n",
    "    believable = data.iloc[i][\"believable\"]\n",
    "    harmful = data.iloc[i][\"harmful\"]\n",
    "    valDiff = data.iloc[i][\"validationDifficulty\"]\n",
    "    summary = data.iloc[i][\"summary\"]\n",
    "\n",
    "    if (classification == \"MISINFORMED_OR_POTENTIALLY_MISLEADING\" and \n",
    "        believable not in [\"BELIEVABLEBYFEW\", \"BELIEVABLE_BY_MANY\"] and\n",
    "        harmful not in [\"LITTLE*HARM\", \"CONSIDERABLE*HARM\"] and \n",
    "        valDiff not in [\"EASY\", \"CHALLENGING\"] and\n",
    "        \"http\" in summary):\n",
    "        misCount += 1\n",
    "        annoNotes.loc[index, \"noteId\"] = noteId\n",
    "        annoNotes.loc[index, \"summary\"] = summary\n",
    "        index += 1\n",
    "\n",
    "    if index >= 201:\n",
    "        break\n",
    "\n",
    "\n",
    "annoNotes.to_csv(\"data/annotatation.csv\")"
   ]
  }
 ],
 "metadata": {
  "kernelspec": {
   "display_name": "Python 3",
   "language": "python",
   "name": "python3"
  },
  "language_info": {
   "codemirror_mode": {
    "name": "ipython",
    "version": 3
   },
   "file_extension": ".py",
   "mimetype": "text/x-python",
   "name": "python",
   "nbconvert_exporter": "python",
   "pygments_lexer": "ipython3",
   "version": "3.11.9"
  }
 },
 "nbformat": 4,
 "nbformat_minor": 2
}
